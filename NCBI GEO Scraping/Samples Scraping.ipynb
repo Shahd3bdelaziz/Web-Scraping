{
 "cells": [
  {
   "cell_type": "markdown",
   "id": "9ea21258",
   "metadata": {},
   "source": [
    "<h1 style=\"text-align: center; color: #1f77b4;\">NCBI GEO samples scrapping</h1>"
   ]
  },
  {
   "cell_type": "markdown",
   "id": "d3e9abf3",
   "metadata": {},
   "source": [
    "### install selenium"
   ]
  },
  {
   "cell_type": "code",
   "execution_count": 1,
   "id": "ff99c59c",
   "metadata": {},
   "outputs": [
    {
     "name": "stdout",
     "output_type": "stream",
     "text": [
      "Defaulting to user installation because normal site-packages is not writeable\n",
      "Requirement already satisfied: selenium in c:\\users\\win(10)x64\\appdata\\roaming\\python\\python311\\site-packages (4.23.1)\n",
      "Requirement already satisfied: urllib3<3,>=1.26 in c:\\programdata\\anaconda3\\lib\\site-packages (from urllib3[socks]<3,>=1.26->selenium) (1.26.16)\n",
      "Requirement already satisfied: trio~=0.17 in c:\\users\\win(10)x64\\appdata\\roaming\\python\\python311\\site-packages (from selenium) (0.26.0)\n",
      "Requirement already satisfied: trio-websocket~=0.9 in c:\\users\\win(10)x64\\appdata\\roaming\\python\\python311\\site-packages (from selenium) (0.11.1)\n",
      "Requirement already satisfied: certifi>=2021.10.8 in c:\\programdata\\anaconda3\\lib\\site-packages (from selenium) (2023.7.22)\n",
      "Requirement already satisfied: typing_extensions~=4.9 in c:\\users\\win(10)x64\\appdata\\roaming\\python\\python311\\site-packages (from selenium) (4.12.2)\n",
      "Requirement already satisfied: websocket-client~=1.8 in c:\\users\\win(10)x64\\appdata\\roaming\\python\\python311\\site-packages (from selenium) (1.8.0)\n",
      "Requirement already satisfied: attrs>=23.2.0 in c:\\users\\win(10)x64\\appdata\\roaming\\python\\python311\\site-packages (from trio~=0.17->selenium) (23.2.0)\n",
      "Requirement already satisfied: sortedcontainers in c:\\programdata\\anaconda3\\lib\\site-packages (from trio~=0.17->selenium) (2.4.0)\n",
      "Requirement already satisfied: idna in c:\\programdata\\anaconda3\\lib\\site-packages (from trio~=0.17->selenium) (3.4)\n",
      "Requirement already satisfied: outcome in c:\\users\\win(10)x64\\appdata\\roaming\\python\\python311\\site-packages (from trio~=0.17->selenium) (1.3.0.post0)\n",
      "Requirement already satisfied: sniffio>=1.3.0 in c:\\users\\win(10)x64\\appdata\\roaming\\python\\python311\\site-packages (from trio~=0.17->selenium) (1.3.1)\n",
      "Requirement already satisfied: cffi>=1.14 in c:\\programdata\\anaconda3\\lib\\site-packages (from trio~=0.17->selenium) (1.15.1)\n",
      "Requirement already satisfied: wsproto>=0.14 in c:\\users\\win(10)x64\\appdata\\roaming\\python\\python311\\site-packages (from trio-websocket~=0.9->selenium) (1.2.0)\n",
      "Requirement already satisfied: PySocks!=1.5.7,<2.0,>=1.5.6 in c:\\programdata\\anaconda3\\lib\\site-packages (from urllib3[socks]<3,>=1.26->selenium) (1.7.1)\n",
      "Requirement already satisfied: pycparser in c:\\programdata\\anaconda3\\lib\\site-packages (from cffi>=1.14->trio~=0.17->selenium) (2.21)\n",
      "Requirement already satisfied: h11<1,>=0.9.0 in c:\\users\\win(10)x64\\appdata\\roaming\\python\\python311\\site-packages (from wsproto>=0.14->trio-websocket~=0.9->selenium) (0.14.0)\n",
      "Note: you may need to restart the kernel to use updated packages.\n"
     ]
    },
    {
     "name": "stderr",
     "output_type": "stream",
     "text": [
      "\n",
      "[notice] A new release of pip is available: 24.0 -> 24.2\n",
      "[notice] To update, run: python.exe -m pip install --upgrade pip\n"
     ]
    }
   ],
   "source": [
    "pip install selenium"
   ]
  },
  {
   "cell_type": "markdown",
   "id": "03383440",
   "metadata": {},
   "source": [
    "### Import required libraries"
   ]
  },
  {
   "cell_type": "markdown",
   "id": "64212e82",
   "metadata": {},
   "source": [
    "- re: For regular expression operations.\n",
    "- csv: For reading and writing CSV files.\n",
    "- pandas as pd: For creating a DataFrame.\n",
    "- requests: For sending HTTP requests.\n",
    "- BeautifulSoup: From the bs4 package, used for parsing HTML and XML documents.\n",
    "- selenium: A tool for automating web browsers. The specific imports include webdriver for controlling the browser.\n",
    "- By: for locating elements.\n",
    "- Service: for managing the driver service."
   ]
  },
  {
   "cell_type": "code",
   "execution_count": 3,
   "id": "574188eb",
   "metadata": {},
   "outputs": [],
   "source": [
    "import re\n",
    "import csv\n",
    "import pandas as pd\n",
    "import requests\n",
    "from bs4 import BeautifulSoup\n",
    "from selenium import webdriver\n",
    "from selenium.webdriver.common.by import By\n",
    "from selenium.webdriver.firefox.service import Service\n",
    "service = Service('geckodriver.exe')"
   ]
  },
  {
   "cell_type": "markdown",
   "id": "6838536f",
   "metadata": {},
   "source": [
    "### Setting up the WebDriver to interact with the website"
   ]
  },
  {
   "cell_type": "markdown",
   "id": "0b3b9515",
   "metadata": {},
   "source": [
    "1. website: A variable containing the URL of the website to be accessed, which in this case is an NCBI GEO dataset page.\n",
    "2. driver: An instance of the Firefox WebDriver created using the service object initialized earlier. This driver will control the Firefox browser.\n",
    "3. driver.get(website): This command instructs the driver to navigate to the specified URL, opening the webpage in the Firefox browser."
   ]
  },
  {
   "cell_type": "code",
   "execution_count": 4,
   "id": "4f8710a0",
   "metadata": {},
   "outputs": [],
   "source": [
    "website= 'https://www.ncbi.nlm.nih.gov/geo/query/acc.cgi?acc=GSE186458'"
   ]
  },
  {
   "cell_type": "code",
   "execution_count": 5,
   "id": "45037c39",
   "metadata": {},
   "outputs": [],
   "source": [
    "driver = webdriver.Firefox(service=service)\n",
    "driver.get(website)  "
   ]
  },
  {
   "cell_type": "markdown",
   "id": "23e14f99",
   "metadata": {},
   "source": [
    "### A. Finding Page elements using selenium"
   ]
  },
  {
   "cell_type": "markdown",
   "id": "a3ff4c9a",
   "metadata": {},
   "source": [
    "1. more_link: A variable that stores the web element found using Selenium's find_element method. The method locates the element using an XPath expression, which in this case targets an anchor (\\<a>) tag within a (\\<div>) element whose ID contains the string \"divhidden\".\n",
    "\n",
    "2. more_link.click(): This command simulates a click on the found element, which is a \"more\" link reveals additional content on the page."
   ]
  },
  {
   "cell_type": "code",
   "execution_count": 6,
   "id": "0e8a904a",
   "metadata": {},
   "outputs": [],
   "source": [
    "more_link = driver.find_element(By.XPATH, '//div[contains(@id, \"divhidden\")]/a')\n",
    "more_link.click()"
   ]
  },
  {
   "cell_type": "markdown",
   "id": "09d79874",
   "metadata": {},
   "source": [
    "### Access the website using requests"
   ]
  },
  {
   "cell_type": "markdown",
   "id": "c2fe86d1",
   "metadata": {},
   "source": [
    "1. response: A variable that stores the result of the requests.get(website) call. This sends a GET request to the URL stored in the website variable and retrieves the response from the server.\n",
    "\n",
    "2. response: When this variable is called, it will display the HTTP response object, which includes the response content."
   ]
  },
  {
   "cell_type": "code",
   "execution_count": 7,
   "id": "f8bd712f",
   "metadata": {},
   "outputs": [
    {
     "data": {
      "text/plain": [
       "<Response [200]>"
      ]
     },
     "execution_count": 7,
     "metadata": {},
     "output_type": "execute_result"
    }
   ],
   "source": [
    "response = requests.get(website)\n",
    "response"
   ]
  },
  {
   "cell_type": "markdown",
   "id": "983da0c7",
   "metadata": {},
   "source": [
    "### parsing the HTML content of a webpage"
   ]
  },
  {
   "cell_type": "markdown",
   "id": "2f91c46c",
   "metadata": {},
   "source": [
    "- soup: A variable that stores the parsed HTML content. It uses BeautifulSoup from the bs4 library to convert the HTML text into a structured format that can be easily navigated and searched.\n",
    "\n",
    "- BeautifulSoup(response.text, 'html.parser'): This creates a BeautifulSoup object by passing the response.text (the raw HTML content obtained from the HTTP response) and specifying 'html.parser' as the parser to use. This allows for easy extraction of data from the HTML structure."
   ]
  },
  {
   "cell_type": "code",
   "execution_count": 8,
   "id": "e51c59ff",
   "metadata": {},
   "outputs": [],
   "source": [
    "soup = BeautifulSoup(response.text, 'html.parser')"
   ]
  },
  {
   "cell_type": "markdown",
   "id": "0fd63d6f",
   "metadata": {},
   "source": [
    "### B. Finding the webpage elements"
   ]
  },
  {
   "cell_type": "markdown",
   "id": "811793cd",
   "metadata": {},
   "source": [
    "tds: A variable that stores a list of all \\<td> elements found on the webpage that match the specified attributes."
   ]
  },
  {
   "cell_type": "code",
   "execution_count": 9,
   "id": "aab4062e",
   "metadata": {},
   "outputs": [],
   "source": [
    "tds = soup.find_all('td', attrs={'onmouseout': \"onLinkOut('HelpMessage' , geo_empty_help)\",'onmouseover': \"onLinkOver('HelpMessage' , geoaxema_recenter)\"})"
   ]
  },
  {
   "cell_type": "markdown",
   "id": "c0bc8854",
   "metadata": {},
   "source": [
    "samples_container: A variable that stores the second \\<td> element from the tds list that considerd the container of the samples we want to scrape."
   ]
  },
  {
   "cell_type": "code",
   "execution_count": 10,
   "id": "6d1b2945",
   "metadata": {},
   "outputs": [],
   "source": [
    "samples_container= tds[1]"
   ]
  },
  {
   "cell_type": "markdown",
   "id": "3d9d8b85",
   "metadata": {},
   "source": [
    "tables: A variable that stores a list of all \\<table> elements found within the samples_container element, these tables contains the samples links."
   ]
  },
  {
   "cell_type": "code",
   "execution_count": 11,
   "id": "44197e1f",
   "metadata": {},
   "outputs": [],
   "source": [
    "tables= samples_container.find_all('table')"
   ]
  },
  {
   "cell_type": "code",
   "execution_count": 12,
   "id": "471baceb",
   "metadata": {},
   "outputs": [
    {
     "data": {
      "text/plain": [
       "2"
      ]
     },
     "execution_count": 12,
     "metadata": {},
     "output_type": "execute_result"
    }
   ],
   "source": [
    "len(tables)"
   ]
  },
  {
   "cell_type": "markdown",
   "id": "7c1633f1",
   "metadata": {},
   "source": [
    "samples_links: A variable that stores a combined list of all \\<a> elements found in the first and second \\<table> elements within the tables list which contains the href of the samples."
   ]
  },
  {
   "cell_type": "code",
   "execution_count": 13,
   "id": "d94f7f9a",
   "metadata": {},
   "outputs": [],
   "source": [
    "samples_links= tables[0].find_all('a') + tables[1].find_all('a')"
   ]
  },
  {
   "cell_type": "code",
   "execution_count": 17,
   "id": "bebba139",
   "metadata": {},
   "outputs": [
    {
     "name": "stdout",
     "output_type": "stream",
     "text": [
      "The number of samples= 253\n"
     ]
    }
   ],
   "source": [
    "print(f'The number of samples= {len(samples_links)}')"
   ]
  },
  {
   "cell_type": "markdown",
   "id": "897b076c",
   "metadata": {},
   "source": [
    "### initializing data structures to store information of the samples"
   ]
  },
  {
   "cell_type": "markdown",
   "id": "c502ab94",
   "metadata": {},
   "source": [
    "- samples_dataset: An empty dictionary intended to store datasets related to samples. This dictionary may later hold various sample details as key-value pairs.\n",
    "\n",
    "- samples_GEO_accession: An empty list that will store GEO accession numbers, which are unique identifiers assigned to each sample or dataset in the Gene Expression Omnibus (GEO) database.\n",
    "\n",
    "- samples_age: An empty list that will store the ages of the samples, likely related to the age of individuals or subjects associated with the data.\n",
    "\n",
    "- samples_sex: An empty list that will store the sex of the samples, indicating whether the samples are from male or female subjects."
   ]
  },
  {
   "cell_type": "code",
   "execution_count": 18,
   "id": "452a2f72",
   "metadata": {},
   "outputs": [],
   "source": [
    "samples_dataset={}\n",
    "samples_GEO_accession=[]\n",
    "samples_age= []\n",
    "samples_sex= []"
   ]
  },
  {
   "cell_type": "markdown",
   "id": "3070ad03",
   "metadata": {},
   "source": [
    "### Extracting samples information"
   ]
  },
  {
   "cell_type": "markdown",
   "id": "d886d962",
   "metadata": {},
   "source": [
    "1. Iterate through samples_links: For each \\<a> tag (link) in the samples_links list:\n",
    "\n",
    "    - name: Extracts the sample name from the link and appends it to samples_GEO_accession.\n",
    "    - link: Retrieves and constructs the full URL for the sample page.\n",
    "    - sample_page: Sends a GET request to the sample page URL.\n",
    "    - sample_soup: Parses the HTML content of the sample page using BeautifulSoup.\n",
    "    - table: Finds the specific table on the sample page using given attributes.\n",
    "    - tds: Retrieves all \\<td> elements from the table.\n",
    "    - sample_info: Selects a specific \\<td> element (17th) which contain the sample characteristics for further processing.\n",
    "    - text_content: Extracts and cleans the text from sample_info.\n",
    "    - age_match: Searches for an age pattern in the text and extracts the age if found.\n",
    "    - sex_match: Searches for a sex or gender pattern in the text and extracts the sex if found.\n",
    "    - age: Appends the extracted age or \"NaN\" if not found.\n",
    "    - sex: Appends the extracted sex or \"NaN\" if not found."
   ]
  },
  {
   "cell_type": "code",
   "execution_count": 19,
   "id": "79f11630",
   "metadata": {},
   "outputs": [
    {
     "name": "stdout",
     "output_type": "stream",
     "text": [
      "Sample 1 done\n",
      "Sample 2 done\n",
      "Sample 3 done\n",
      "Sample 4 done\n",
      "Sample 5 done\n",
      "Sample 6 done\n",
      "Sample 7 done\n",
      "Sample 8 done\n",
      "Sample 9 done\n",
      "Sample 10 done\n",
      "Sample 11 done\n",
      "Sample 12 done\n",
      "Sample 13 done\n",
      "Sample 14 done\n",
      "Sample 15 done\n",
      "Sample 16 done\n",
      "Sample 17 done\n",
      "Sample 18 done\n",
      "Sample 19 done\n",
      "Sample 20 done\n",
      "Sample 21 done\n",
      "Sample 22 done\n",
      "Sample 23 done\n",
      "Sample 24 done\n",
      "Sample 25 done\n",
      "Sample 26 done\n",
      "Sample 27 done\n",
      "Sample 28 done\n",
      "Sample 29 done\n",
      "Sample 30 done\n",
      "Sample 31 done\n",
      "Sample 32 done\n",
      "Sample 33 done\n",
      "Sample 34 done\n",
      "Sample 35 done\n",
      "Sample 36 done\n",
      "Sample 37 done\n",
      "Sample 38 done\n",
      "Sample 39 done\n",
      "Sample 40 done\n",
      "Sample 41 done\n",
      "Sample 42 done\n",
      "Sample 43 done\n",
      "Sample 44 done\n",
      "Sample 45 done\n",
      "Sample 46 done\n",
      "Sample 47 done\n",
      "Sample 48 done\n",
      "Sample 49 done\n",
      "Sample 50 done\n",
      "Sample 51 done\n",
      "Sample 52 done\n",
      "Sample 53 done\n",
      "Sample 54 done\n",
      "Sample 55 done\n",
      "Sample 56 done\n",
      "Sample 57 done\n",
      "Sample 58 done\n",
      "Sample 59 done\n",
      "Sample 60 done\n",
      "Sample 61 done\n",
      "Sample 62 done\n",
      "Sample 63 done\n",
      "Sample 64 done\n",
      "Sample 65 done\n",
      "Sample 66 done\n",
      "Sample 67 done\n",
      "Sample 68 done\n",
      "Sample 69 done\n",
      "Sample 70 done\n",
      "Sample 71 done\n",
      "Sample 72 done\n",
      "Sample 73 done\n",
      "Sample 74 done\n",
      "Sample 75 done\n",
      "Sample 76 done\n",
      "Sample 77 done\n",
      "Sample 78 done\n",
      "Sample 79 done\n",
      "Sample 80 done\n",
      "Sample 81 done\n",
      "Sample 82 done\n",
      "Sample 83 done\n",
      "Sample 84 done\n",
      "Sample 85 done\n",
      "Sample 86 done\n",
      "Sample 87 done\n",
      "Sample 88 done\n",
      "Sample 89 done\n",
      "Sample 90 done\n",
      "Sample 91 done\n",
      "Sample 92 done\n",
      "Sample 93 done\n",
      "Sample 94 done\n",
      "Sample 95 done\n",
      "Sample 96 done\n",
      "Sample 97 done\n",
      "Sample 98 done\n",
      "Sample 99 done\n",
      "Sample 100 done\n",
      "Sample 101 done\n",
      "Sample 102 done\n",
      "Sample 103 done\n",
      "Sample 104 done\n",
      "Sample 105 done\n",
      "Sample 106 done\n",
      "Sample 107 done\n",
      "Sample 108 done\n",
      "Sample 109 done\n",
      "Sample 110 done\n",
      "Sample 111 done\n",
      "Sample 112 done\n",
      "Sample 113 done\n",
      "Sample 114 done\n",
      "Sample 115 done\n",
      "Sample 116 done\n",
      "Sample 117 done\n",
      "Sample 118 done\n",
      "Sample 119 done\n",
      "Sample 120 done\n",
      "Sample 121 done\n",
      "Sample 122 done\n",
      "Sample 123 done\n",
      "Sample 124 done\n",
      "Sample 125 done\n",
      "Sample 126 done\n",
      "Sample 127 done\n",
      "Sample 128 done\n",
      "Sample 129 done\n",
      "Sample 130 done\n",
      "Sample 131 done\n",
      "Sample 132 done\n",
      "Sample 133 done\n",
      "Sample 134 done\n",
      "Sample 135 done\n",
      "Sample 136 done\n",
      "Sample 137 done\n",
      "Sample 138 done\n",
      "Sample 139 done\n",
      "Sample 140 done\n",
      "Sample 141 done\n",
      "Sample 142 done\n",
      "Sample 143 done\n",
      "Sample 144 done\n",
      "Sample 145 done\n",
      "Sample 146 done\n",
      "Sample 147 done\n",
      "Sample 148 done\n",
      "Sample 149 done\n",
      "Sample 150 done\n",
      "Sample 151 done\n",
      "Sample 152 done\n",
      "Sample 153 done\n",
      "Sample 154 done\n",
      "Sample 155 done\n",
      "Sample 156 done\n",
      "Sample 157 done\n",
      "Sample 158 done\n",
      "Sample 159 done\n",
      "Sample 160 done\n",
      "Sample 161 done\n",
      "Sample 162 done\n",
      "Sample 163 done\n",
      "Sample 164 done\n",
      "Sample 165 done\n",
      "Sample 166 done\n",
      "Sample 167 done\n",
      "Sample 168 done\n",
      "Sample 169 done\n",
      "Sample 170 done\n",
      "Sample 171 done\n",
      "Sample 172 done\n",
      "Sample 173 done\n",
      "Sample 174 done\n",
      "Sample 175 done\n",
      "Sample 176 done\n",
      "Sample 177 done\n",
      "Sample 178 done\n",
      "Sample 179 done\n",
      "Sample 180 done\n",
      "Sample 181 done\n",
      "Sample 182 done\n",
      "Sample 183 done\n",
      "Sample 184 done\n",
      "Sample 185 done\n",
      "Sample 186 done\n",
      "Sample 187 done\n",
      "Sample 188 done\n",
      "Sample 189 done\n",
      "Sample 190 done\n",
      "Sample 191 done\n",
      "Sample 192 done\n",
      "Sample 193 done\n",
      "Sample 194 done\n",
      "Sample 195 done\n",
      "Sample 196 done\n",
      "Sample 197 done\n",
      "Sample 198 done\n",
      "Sample 199 done\n",
      "Sample 200 done\n",
      "Sample 201 done\n",
      "Sample 202 done\n",
      "Sample 203 done\n",
      "Sample 204 done\n",
      "Sample 205 done\n",
      "Sample 206 done\n",
      "Sample 207 done\n",
      "Sample 208 done\n",
      "Sample 209 done\n",
      "Sample 210 done\n",
      "Sample 211 done\n",
      "Sample 212 done\n",
      "Sample 213 done\n",
      "Sample 214 done\n",
      "Sample 215 done\n",
      "Sample 216 done\n",
      "Sample 217 done\n",
      "Sample 218 done\n",
      "Sample 219 done\n",
      "Sample 220 done\n",
      "Sample 221 done\n",
      "Sample 222 done\n",
      "Sample 223 done\n",
      "Sample 224 done\n",
      "Sample 225 done\n",
      "Sample 226 done\n",
      "Sample 227 done\n",
      "Sample 228 done\n",
      "Sample 229 done\n",
      "Sample 230 done\n",
      "Sample 231 done\n",
      "Sample 232 done\n",
      "Sample 233 done\n",
      "Sample 234 done\n",
      "Sample 235 done\n",
      "Sample 236 done\n",
      "Sample 237 done\n",
      "Sample 238 done\n",
      "Sample 239 done\n",
      "Sample 240 done\n",
      "Sample 241 done\n",
      "Sample 242 done\n",
      "Sample 243 done\n",
      "Sample 244 done\n",
      "Sample 245 done\n",
      "Sample 246 done\n",
      "Sample 247 done\n",
      "Sample 248 done\n",
      "Sample 249 done\n",
      "Sample 250 done\n",
      "Sample 251 done\n",
      "Sample 252 done\n",
      "Sample 253 done\n"
     ]
    }
   ],
   "source": [
    "sample_number=0\n",
    "for a_tag in samples_links:\n",
    "    name= a_tag.text\n",
    "    samples_GEO_accession.append(name)\n",
    "    link= a_tag.get('href')\n",
    "    link= f\"https://www.ncbi.nlm.nih.gov{link}\"\n",
    "    sample_page= requests.get(link)\n",
    "    sample_soup= BeautifulSoup(sample_page.text, 'html.parser')\n",
    "    table = sample_soup.find('table', attrs={'cellpadding': '2','cellspacing': '0','width': '600'})\n",
    "    tds= table.find_all('td')\n",
    "    sample_info= tds[17]\n",
    "    text_content = sample_info.get_text(separator=' ').strip()\n",
    "    age_match = re.search(r'age:\\s*(\\d+)', text_content)\n",
    "    sex_match = re.search(r'[Sex|gender]:\\s*([M|F|female|male])', text_content)\n",
    "    age = age_match.group(1) if age_match else \"NaN\"\n",
    "    sex = sex_match.group(1) if sex_match else \"NaN\"\n",
    "    samples_age.append(age)\n",
    "    samples_sex.append(sex)\n",
    "    sample_number+=1\n",
    "    print(f'Sample {sample_number} done')"
   ]
  },
  {
   "cell_type": "code",
   "execution_count": 20,
   "id": "4a7c2dd9",
   "metadata": {},
   "outputs": [
    {
     "name": "stdout",
     "output_type": "stream",
     "text": [
      "length of samples_age list= 253\n",
      "length of samples_sex list= 253\n",
      "length of samples_GEO_accession list= 253\n"
     ]
    }
   ],
   "source": [
    "print(f'length of samples_age list= {len(samples_age)}')\n",
    "print(f'length of samples_sex list= {len(samples_sex)}')\n",
    "print(f'length of samples_GEO_accession list= {len(samples_GEO_accession)}')"
   ]
  },
  {
   "cell_type": "markdown",
   "id": "be0ec625",
   "metadata": {},
   "source": [
    "### populating the samples_dataset dictionary with extracted sample information:"
   ]
  },
  {
   "cell_type": "code",
   "execution_count": 21,
   "id": "1137dcd7",
   "metadata": {},
   "outputs": [],
   "source": [
    "samples_dataset['GEO accession']= samples_GEO_accession\n",
    "samples_dataset['Age']= samples_age\n",
    "samples_dataset['Sex']= samples_sex"
   ]
  },
  {
   "cell_type": "markdown",
   "id": "e315ce78",
   "metadata": {},
   "source": [
    "### Creating a DataFrame for the samples "
   ]
  },
  {
   "cell_type": "code",
   "execution_count": 23,
   "id": "512ca367",
   "metadata": {},
   "outputs": [],
   "source": [
    "df = pd.DataFrame(samples_dataset)\n",
    "df.set_index('GEO accession', inplace=True)"
   ]
  },
  {
   "cell_type": "code",
   "execution_count": 27,
   "id": "cad1b8f3",
   "metadata": {},
   "outputs": [
    {
     "data": {
      "text/html": [
       "<div>\n",
       "<style scoped>\n",
       "    .dataframe tbody tr th:only-of-type {\n",
       "        vertical-align: middle;\n",
       "    }\n",
       "\n",
       "    .dataframe tbody tr th {\n",
       "        vertical-align: top;\n",
       "    }\n",
       "\n",
       "    .dataframe thead th {\n",
       "        text-align: right;\n",
       "    }\n",
       "</style>\n",
       "<table border=\"1\" class=\"dataframe\">\n",
       "  <thead>\n",
       "    <tr style=\"text-align: right;\">\n",
       "      <th></th>\n",
       "      <th>Age</th>\n",
       "      <th>Sex</th>\n",
       "    </tr>\n",
       "    <tr>\n",
       "      <th>GEO accession</th>\n",
       "      <th></th>\n",
       "      <th></th>\n",
       "    </tr>\n",
       "  </thead>\n",
       "  <tbody>\n",
       "    <tr>\n",
       "      <th>GSM5652176</th>\n",
       "      <td>53</td>\n",
       "      <td>F</td>\n",
       "    </tr>\n",
       "    <tr>\n",
       "      <th>GSM5652177</th>\n",
       "      <td>35</td>\n",
       "      <td>F</td>\n",
       "    </tr>\n",
       "    <tr>\n",
       "      <th>GSM5652178</th>\n",
       "      <td>37</td>\n",
       "      <td>F</td>\n",
       "    </tr>\n",
       "    <tr>\n",
       "      <th>GSM5652179</th>\n",
       "      <td>33</td>\n",
       "      <td>F</td>\n",
       "    </tr>\n",
       "    <tr>\n",
       "      <th>GSM5652180</th>\n",
       "      <td>62</td>\n",
       "      <td>F</td>\n",
       "    </tr>\n",
       "    <tr>\n",
       "      <th>GSM5652181</th>\n",
       "      <td>54</td>\n",
       "      <td>F</td>\n",
       "    </tr>\n",
       "    <tr>\n",
       "      <th>GSM5652182</th>\n",
       "      <td>52</td>\n",
       "      <td>F</td>\n",
       "    </tr>\n",
       "    <tr>\n",
       "      <th>GSM5652183</th>\n",
       "      <td>34</td>\n",
       "      <td>M</td>\n",
       "    </tr>\n",
       "    <tr>\n",
       "      <th>GSM5652184</th>\n",
       "      <td>67</td>\n",
       "      <td>M</td>\n",
       "    </tr>\n",
       "    <tr>\n",
       "      <th>GSM5652185</th>\n",
       "      <td>60</td>\n",
       "      <td>M</td>\n",
       "    </tr>\n",
       "    <tr>\n",
       "      <th>GSM5652186</th>\n",
       "      <td>47</td>\n",
       "      <td>M</td>\n",
       "    </tr>\n",
       "    <tr>\n",
       "      <th>GSM5652187</th>\n",
       "      <td>65</td>\n",
       "      <td>M</td>\n",
       "    </tr>\n",
       "    <tr>\n",
       "      <th>GSM5652188</th>\n",
       "      <td>67</td>\n",
       "      <td>M</td>\n",
       "    </tr>\n",
       "    <tr>\n",
       "      <th>GSM5652189</th>\n",
       "      <td>74</td>\n",
       "      <td>F</td>\n",
       "    </tr>\n",
       "    <tr>\n",
       "      <th>GSM5652190</th>\n",
       "      <td>46</td>\n",
       "      <td>F</td>\n",
       "    </tr>\n",
       "    <tr>\n",
       "      <th>GSM5652191</th>\n",
       "      <td>28</td>\n",
       "      <td>F</td>\n",
       "    </tr>\n",
       "    <tr>\n",
       "      <th>GSM5652192</th>\n",
       "      <td>76</td>\n",
       "      <td>F</td>\n",
       "    </tr>\n",
       "    <tr>\n",
       "      <th>GSM5652193</th>\n",
       "      <td>81</td>\n",
       "      <td>F</td>\n",
       "    </tr>\n",
       "    <tr>\n",
       "      <th>GSM5652194</th>\n",
       "      <td>61</td>\n",
       "      <td>F</td>\n",
       "    </tr>\n",
       "    <tr>\n",
       "      <th>GSM5652195</th>\n",
       "      <td>49</td>\n",
       "      <td>F</td>\n",
       "    </tr>\n",
       "    <tr>\n",
       "      <th>GSM5652196</th>\n",
       "      <td>52</td>\n",
       "      <td>F</td>\n",
       "    </tr>\n",
       "    <tr>\n",
       "      <th>GSM5652197</th>\n",
       "      <td>52</td>\n",
       "      <td>F</td>\n",
       "    </tr>\n",
       "    <tr>\n",
       "      <th>GSM5652198</th>\n",
       "      <td>37</td>\n",
       "      <td>F</td>\n",
       "    </tr>\n",
       "    <tr>\n",
       "      <th>GSM5652199</th>\n",
       "      <td>46</td>\n",
       "      <td>F</td>\n",
       "    </tr>\n",
       "    <tr>\n",
       "      <th>GSM5652200</th>\n",
       "      <td>55</td>\n",
       "      <td>F</td>\n",
       "    </tr>\n",
       "  </tbody>\n",
       "</table>\n",
       "</div>"
      ],
      "text/plain": [
       "              Age Sex\n",
       "GEO accession        \n",
       "GSM5652176     53   F\n",
       "GSM5652177     35   F\n",
       "GSM5652178     37   F\n",
       "GSM5652179     33   F\n",
       "GSM5652180     62   F\n",
       "GSM5652181     54   F\n",
       "GSM5652182     52   F\n",
       "GSM5652183     34   M\n",
       "GSM5652184     67   M\n",
       "GSM5652185     60   M\n",
       "GSM5652186     47   M\n",
       "GSM5652187     65   M\n",
       "GSM5652188     67   M\n",
       "GSM5652189     74   F\n",
       "GSM5652190     46   F\n",
       "GSM5652191     28   F\n",
       "GSM5652192     76   F\n",
       "GSM5652193     81   F\n",
       "GSM5652194     61   F\n",
       "GSM5652195     49   F\n",
       "GSM5652196     52   F\n",
       "GSM5652197     52   F\n",
       "GSM5652198     37   F\n",
       "GSM5652199     46   F\n",
       "GSM5652200     55   F"
      ]
     },
     "execution_count": 27,
     "metadata": {},
     "output_type": "execute_result"
    }
   ],
   "source": [
    "df.head(25)"
   ]
  },
  {
   "cell_type": "markdown",
   "id": "522ffedd",
   "metadata": {},
   "source": [
    "### Saving the Dataset as CSV file"
   ]
  },
  {
   "cell_type": "code",
   "execution_count": 25,
   "id": "f6152eac",
   "metadata": {},
   "outputs": [],
   "source": [
    "df.to_csv('Samples.csv')"
   ]
  },
  {
   "cell_type": "code",
   "execution_count": null,
   "id": "6ce5ca40",
   "metadata": {},
   "outputs": [],
   "source": []
  }
 ],
 "metadata": {
  "kernelspec": {
   "display_name": "Python 3 (ipykernel)",
   "language": "python",
   "name": "python3"
  },
  "language_info": {
   "codemirror_mode": {
    "name": "ipython",
    "version": 3
   },
   "file_extension": ".py",
   "mimetype": "text/x-python",
   "name": "python",
   "nbconvert_exporter": "python",
   "pygments_lexer": "ipython3",
   "version": "3.11.5"
  }
 },
 "nbformat": 4,
 "nbformat_minor": 5
}
